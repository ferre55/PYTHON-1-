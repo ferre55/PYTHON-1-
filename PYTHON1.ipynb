{
 "cells": [
  {
   "cell_type": "markdown",
   "id": "4fd588fa-49ab-40b2-a282-ee2d2582d131",
   "metadata": {},
   "source": [
    "## __PYTHON 1__"
   ]
  },
  {
   "cell_type": "markdown",
   "id": "52ad7237-d353-4f23-9626-98f6cdbc4a1e",
   "metadata": {},
   "source": [
    "Make a function that can sum 2 integer"
   ]
  },
  {
   "cell_type": "markdown",
   "id": "c306bd33-e2d0-4a85-97d4-ed0c01e5b224",
   "metadata": {},
   "source": [
    "Flowchart <img src=\"PYTHON1.png\" width=300 height=300 />\n"
   ]
  },
  {
   "cell_type": "code",
   "execution_count": 2,
   "id": "1c03ba51-1a5b-4cb2-bc7f-1f2317b9b63a",
   "metadata": {},
   "outputs": [],
   "source": [
    "def SumTwoNumbers(num1,num2):\n",
    "    return num1+num2\n"
   ]
  },
  {
   "cell_type": "code",
   "execution_count": 3,
   "id": "e771aaa3-0d66-4c61-a436-16e9a728a291",
   "metadata": {},
   "outputs": [
    {
     "data": {
      "text/plain": [
       "5"
      ]
     },
     "execution_count": 3,
     "metadata": {},
     "output_type": "execute_result"
    }
   ],
   "source": [
    "SumTwoNumbers(2,3)"
   ]
  },
  {
   "cell_type": "code",
   "execution_count": 4,
   "id": "46a3b52f-b419-4702-b7fd-133bf54cfd88",
   "metadata": {},
   "outputs": [
    {
     "data": {
      "text/plain": [
       "4"
      ]
     },
     "execution_count": 4,
     "metadata": {},
     "output_type": "execute_result"
    }
   ],
   "source": [
    "SumTwoNumbers(1,3)"
   ]
  },
  {
   "cell_type": "code",
   "execution_count": 5,
   "id": "811486c0-7600-4d48-80db-763eec4fcaa0",
   "metadata": {},
   "outputs": [
    {
     "data": {
      "text/plain": [
       "10002"
      ]
     },
     "execution_count": 5,
     "metadata": {},
     "output_type": "execute_result"
    }
   ],
   "source": [
    "SumTwoNumbers(10000,2)"
   ]
  },
  {
   "cell_type": "code",
   "execution_count": 6,
   "id": "bf403a3b-ccd2-4698-b1cb-2de00f3706f8",
   "metadata": {},
   "outputs": [
    {
     "data": {
      "text/plain": [
       "1600"
      ]
     },
     "execution_count": 6,
     "metadata": {},
     "output_type": "execute_result"
    }
   ],
   "source": [
    "SumTwoNumbers(800,800)"
   ]
  },
  {
   "cell_type": "code",
   "execution_count": null,
   "id": "0c7443b4-d1e0-495a-90b2-64cf00970df2",
   "metadata": {},
   "outputs": [],
   "source": []
  }
 ],
 "metadata": {
  "kernelspec": {
   "display_name": "Python 3 (ipykernel)",
   "language": "python",
   "name": "python3"
  },
  "language_info": {
   "codemirror_mode": {
    "name": "ipython",
    "version": 3
   },
   "file_extension": ".py",
   "mimetype": "text/x-python",
   "name": "python",
   "nbconvert_exporter": "python",
   "pygments_lexer": "ipython3",
   "version": "3.9.7"
  }
 },
 "nbformat": 4,
 "nbformat_minor": 5
}
